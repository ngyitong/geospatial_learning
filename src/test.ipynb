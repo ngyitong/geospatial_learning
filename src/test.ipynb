{
 "cells": [
  {
   "cell_type": "markdown",
   "id": "2f0db38b",
   "metadata": {},
   "source": [
    "### For testing and more"
   ]
  },
  {
   "cell_type": "code",
   "execution_count": 7,
   "id": "bbcd8e5d",
   "metadata": {},
   "outputs": [
    {
     "name": "stdout",
     "output_type": "stream",
     "text": [
      "something\n"
     ]
    }
   ],
   "source": [
    "print(\"something\")"
   ]
  }
 ],
 "metadata": {
  "kernelspec": {
   "display_name": "venv",
   "language": "python",
   "name": "python3"
  },
  "language_info": {
   "codemirror_mode": {
    "name": "ipython",
    "version": 3
   },
   "file_extension": ".py",
   "mimetype": "text/x-python",
   "name": "python",
   "nbconvert_exporter": "python",
   "pygments_lexer": "ipython3",
   "version": "3.9.12"
  }
 },
 "nbformat": 4,
 "nbformat_minor": 5
}
